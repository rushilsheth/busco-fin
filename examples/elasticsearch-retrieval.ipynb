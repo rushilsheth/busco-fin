{
 "cells": [
  {
   "cell_type": "markdown",
   "metadata": {},
   "source": [
    "# Elasticsearch Retrieval with OpenAI\n",
    "\n",
    "### Overview\n",
    "\n",
    "In this notebook we will launch elastic search locally and then ask some questions related to 10-K filings of top 10 S&P500 companies\n",
    "\n",
    "1. Set up enviornment\n",
    "2. Build search tool to query our ES instance\n",
    "3. Test the search tool\n",
    "4. Create OpenAI client with access to the tool\n",
    "5. Compare OpenAI's response with and without access to the tool"
   ]
  },
  {
   "cell_type": "markdown",
   "metadata": {},
   "source": [
    "# Imports and start ElasticSearch"
   ]
  },
  {
   "cell_type": "code",
   "execution_count": 1,
   "metadata": {},
   "outputs": [],
   "source": [
    "import logging\n",
    "\n",
    "import os\n",
    "import sys\n",
    "sys.path.append(os.path.abspath(os.path.join(os.getcwd(), os.pardir)))\n",
    "\n",
    "from retriever.util import get_logger\n",
    "from retriever.searcher.searchtools.elasticsearch import ElasticsearchSearchTool\n",
    "\n",
    "\n",
    "logger = get_logger()"
   ]
  },
  {
   "cell_type": "code",
   "execution_count": 2,
   "metadata": {},
   "outputs": [
    {
     "name": "stdout",
     "output_type": "stream",
     "text": [
      "Starting Elasticsearch...\n",
      "Elasticsearch is starting. Please wait a few moments before it becomes available.\n"
     ]
    }
   ],
   "source": [
    "from retriever.searcher.constants import SEC_FILINGS_SEARCH_TOOL_DESCRIPTION\n",
    "sec_search_tool = ElasticsearchSearchTool(SEC_FILINGS_SEARCH_TOOL_DESCRIPTION)"
   ]
  },
  {
   "cell_type": "code",
   "execution_count": 3,
   "metadata": {},
   "outputs": [],
   "source": [
    "tesla_question = \"How does Tesla optimize supply chain efficiency?\""
   ]
  },
  {
   "cell_type": "code",
   "execution_count": 4,
   "metadata": {},
   "outputs": [
    {
     "name": "stdout",
     "output_type": "stream",
     "text": [
      "2024-02-23 12:11:03,935 - elastic_transport.transport - INFO - POST http://localhost:9200/sec_filings/_search [status:200 duration:0.452s]\n",
      "2024-02-23 12:11:03,935 - elastic_transport.transport - INFO - POST http://localhost:9200/sec_filings/_search [status:200 duration:0.452s]\n",
      "2024-02-23 12:11:03,935 - elastic_transport.transport - INFO - POST http://localhost:9200/sec_filings/_search [status:200 duration:0.452s]\n"
     ]
    }
   ],
   "source": [
    "tesla_supply_chain = sec_search_tool.search(tesla_question, n_search_results_to_use=3)"
   ]
  },
  {
   "cell_type": "code",
   "execution_count": 5,
   "metadata": {},
   "outputs": [
    {
     "name": "stdout",
     "output_type": "stream",
     "text": [
      "\n",
      "<search_results>\n",
      "<item index=\"1\">\n",
      "<page_content>\n",
      "For\n",
      "example, a global shortage of semiconductors has been reported since early\n",
      "2021 and has caused challenges in the manufacturing industry and impacted our\n",
      "<em>supply</em> <em>chain</em> and production as well.\n",
      "\n",
      "We are highly dependent on the\n",
      "services of Elon Musk, Technoking of <em>Tesla</em> and our Chief Executive Officer. We\n",
      "are highly dependent on the services of Elon Musk, Technoking of <em>Tesla</em> and our\n",
      "Chief Executive Officer. Although Mr. Musk spends significant time with <em>Tesla</em>\n",
      "and is highly active in our management, he <em>does</em> not devote his full time and\n",
      "attention to <em>Tesla</em>. Mr.\n",
      "\n",
      "There have been and may continue to be\n",
      "significant <em>supply</em> <em>chain</em> attacks.\n",
      "\n",
      "We are highly dependent on the\n",
      "services of Elon Musk, Technoking of <em>Tesla</em> and our Chief Executive Officer. We\n",
      "are highly dependent on the services of Elon Musk, Technoking of <em>Tesla</em> and our\n",
      "Chief Executive Officer. Although Mr. Musk spends significant time with <em>Tesla</em>\n",
      "and is highly active in our management, he <em>does</em> not devote his full time and\n",
      "attention to <em>Tesla</em>. Mr.\n",
      "\n",
      "There have been and may continue to be\n",
      "significant <em>supply</em> <em>chain</em> attacks.\n",
      "</page_content>\n",
      "</item>\n",
      "<item index=\"2\">\n",
      "<page_content>\n",
      "We are highly dependent\n",
      "on the services of Elon Musk, Technoking of <em>Tesla</em> and our Chief Executive\n",
      "Officer. We are highly dependent on the services of Elon Musk, Technoking of\n",
      "<em>Tesla</em> and our Chief Executive Officer. Although Mr. Musk spends significant\n",
      "time with <em>Tesla</em> and is highly active in our management, he <em>does</em> not devote his\n",
      "full time and attention to <em>Tesla</em>. Mr.\n",
      "\n",
      "There have been and may continue to be\n",
      "significant <em>supply</em> <em>chain</em> attacks.\n",
      "\n",
      "In 2022, we produced 1,369,611 consumer\n",
      "vehicles and delivered 1,313,851 consumer vehicles, despite ongoing <em>supply</em>\n",
      "<em>chain</em> and logistics challenges and factory shutdowns.\n",
      "\n",
      "We are highly dependent\n",
      "on the services of Elon Musk, Technoking of <em>Tesla</em> and our Chief Executive\n",
      "Officer. We are highly dependent on the services of Elon Musk, Technoking of\n",
      "<em>Tesla</em> and our Chief Executive Officer. Although Mr. Musk spends significant\n",
      "time with <em>Tesla</em> and is highly active in our management, he <em>does</em> not devote his\n",
      "full time and attention to <em>Tesla</em>. Mr.\n",
      "\n",
      "There have been and may continue to be\n",
      "significant <em>supply</em> <em>chain</em> attacks.\n",
      "</page_content>\n",
      "</item>\n",
      "<item index=\"3\">\n",
      "<page_content>\n",
      "Used Vehicle Sales Our used\n",
      "vehicle business supports new vehicle sales by integrating the trade-in of a\n",
      "customer’s existing <em>Tesla</em> or non-<em>Tesla</em> vehicle with the sale of a new or used\n",
      "<em>Tesla</em> vehicle. The <em>Tesla</em> and non-<em>Tesla</em> vehicles we acquire as trade-ins are\n",
      "subsequently remarketed, either directly by us or through third parties.\n",
      "\n",
      "From our outreach to\n",
      "Historically Black Colleges and Universities and Hispanic Serving Institutions\n",
      "to sponsoring employee resource groups across numerous locations, including\n",
      "Asian Pacific Islanders at <em>Tesla</em>, Black at <em>Tesla</em>, Intersectionality, Latinos\n",
      "at <em>Tesla</em>, LGBTQ at <em>Tesla</em>, Veterans at <em>Tesla</em> and Women in <em>Tesla</em>, we engage\n",
      "these networks as key business resources and sources of actionable feedback\n",
      "\n",
      "We are also working on diversity efforts in our <em>supply</em> <em>chain</em> to expand our\n",
      "outreach and support to small- and large-scale suppliers from underrepresented\n",
      "communities to emphasize this culture with our own employees.\n",
      "\n",
      "Similarly, increased demand for personal electronics has created a\n",
      "shortfall of microchip <em>supply</em>, and it is yet unknown <em>how</em> we may be impacted.\n",
      "\n",
      "Similarly, increased demand for personal electronics has created a\n",
      "shortfall of microchip <em>supply</em>, and it is yet unknown <em>how</em> we may be impacted.\n",
      "</page_content>\n",
      "</item>\n",
      "</search_results>\n"
     ]
    }
   ],
   "source": [
    "print(tesla_supply_chain)"
   ]
  },
  {
   "cell_type": "markdown",
   "metadata": {},
   "source": [
    "# Now we will analyze different types of responses from the LLM for two different questions"
   ]
  },
  {
   "cell_type": "code",
   "execution_count": 6,
   "metadata": {},
   "outputs": [],
   "source": [
    "from retriever.client import ClientWithRetrieval\n",
    "# training data up to Up to Sep 2021\n",
    "OPENAI_MODEL = \"gpt-3.5-turbo\"\n",
    "\n",
    "client = ClientWithRetrieval(api_key=os.environ['OPENAI_API_KEY'], search_tool = sec_search_tool)\n",
    "logger.setLevel(logging.CRITICAL)"
   ]
  },
  {
   "cell_type": "markdown",
   "metadata": {},
   "source": [
    "## Apple 2022 earning"
   ]
  },
  {
   "cell_type": "markdown",
   "metadata": {},
   "source": [
    "Basic response to the query (no access to the tool)."
   ]
  },
  {
   "cell_type": "code",
   "execution_count": 7,
   "metadata": {},
   "outputs": [],
   "source": [
    "appl_question = \"What was Apple's revenue in 2022?\""
   ]
  },
  {
   "cell_type": "code",
   "execution_count": 8,
   "metadata": {},
   "outputs": [
    {
     "name": "stdout",
     "output_type": "stream",
     "text": [
      "--------------------------------------------------\n",
      "Basic response:\n",
      "What was Apple's revenue in 2022?I am unable to provide information on Apple's revenue in 2022 as it has not yet been reported. The company's fiscal year typically ends in September, so the financial results for 2022 would not be available until sometime in 2023.\n",
      "--------------------------------------------------\n"
     ]
    }
   ],
   "source": [
    "basic_response = client.chat.completions.create(\n",
    "  model=OPENAI_MODEL,\n",
    "  messages=[\n",
    "    {\"role\": \"user\", \"content\": appl_question}\n",
    "  ]\n",
    ")\n",
    "print('-'*50)\n",
    "print('Basic response:')\n",
    "print(appl_question + basic_response.choices[0].message.content)\n",
    "print('-'*50)"
   ]
  },
  {
   "cell_type": "markdown",
   "metadata": {},
   "source": [
    "Same completion, but give GPT the ability to use the tool when thinking about the response."
   ]
  },
  {
   "cell_type": "code",
   "execution_count": 9,
   "metadata": {},
   "outputs": [
    {
     "name": "stdout",
     "output_type": "stream",
     "text": [
      "--------------------------------------------------\n",
      "Augmented response:\n",
      "What was Apple's revenue in 2022?- Total net sales in 2022 included $7.5 billion of revenue that was recognized and included in deferred revenue as of September 25, 2021.\n",
      "- Additionally, total net sales in 2022 included $7.5 billion of revenue that was recognized and included in deferred revenue as of September 25, 2021.\n",
      "--------------------------------------------------\n"
     ]
    }
   ],
   "source": [
    "augmented_response = client.completion_with_retrieval(\n",
    "    query=appl_question,\n",
    "    model=OPENAI_MODEL,\n",
    "    n_search_results_to_use=3)\n",
    "\n",
    "print('-'*50)\n",
    "print('Augmented response:')\n",
    "print(appl_question + augmented_response)\n",
    "print('-'*50)"
   ]
  },
  {
   "cell_type": "markdown",
   "metadata": {},
   "source": [
    "Basic response to the query (no access to the tool)."
   ]
  },
  {
   "cell_type": "markdown",
   "metadata": {},
   "source": [
    "## Tesla question"
   ]
  },
  {
   "cell_type": "code",
   "execution_count": 10,
   "metadata": {},
   "outputs": [
    {
     "name": "stdout",
     "output_type": "stream",
     "text": [
      "--------------------------------------------------\n",
      "Basic response:\n",
      "How does Tesla optimize supply chain efficiency?1. Vertical integration: Tesla has vertically integrated many aspects of its supply chain, including manufacturing components in-house, to improve efficiency and control over production processes.\n",
      "\n",
      "2. Supplier partnerships: Tesla works closely with its suppliers to improve collaboration and optimize supply chain processes. The company often works with suppliers to co-locate near its production facilities for faster delivery times and better communication.\n",
      "\n",
      "3. Just-in-time production: Tesla utilizes a just-in-time production model to minimize inventory costs and waste. This involves ordering and receiving materials just before they are needed in the production process.\n",
      "\n",
      "4. Advanced technology: Tesla uses advanced technology, such as robotics and automation, to streamline production processes and increase efficiency. This helps reduce production times and costs.\n",
      "\n",
      "5. Data analytics: Tesla leverages data analytics to analyze supply chain performance, identify inefficiencies, and make data-driven decisions to optimize processes. This allows the company to continuously improve its supply chain efficiency.\n",
      "\n",
      "6. Sustainable practices: Tesla focuses on sustainability throughout its supply chain by sourcing materials responsibly, reducing waste, and implementing energy-efficient practices. This helps reduce costs and improve overall supply chain efficiency.\n",
      "--------------------------------------------------\n"
     ]
    }
   ],
   "source": [
    "basic_response = client.chat.completions.create(\n",
    "  model=OPENAI_MODEL,\n",
    "  messages=[\n",
    "    {\"role\": \"user\", \"content\": tesla_question}\n",
    "  ]\n",
    ")\n",
    "print('-'*50)\n",
    "print('Basic response:')\n",
    "print(tesla_question + basic_response.choices[0].message.content)\n",
    "print('-'*50)"
   ]
  },
  {
   "cell_type": "code",
   "execution_count": 11,
   "metadata": {},
   "outputs": [
    {
     "name": "stdout",
     "output_type": "stream",
     "text": [
      "--------------------------------------------------\n",
      "Augmented response:\n",
      "How does Tesla optimize supply chain efficiency?- Tesla optimizes supply chain efficiency by integrating the trade-in of a customer's existing Tesla or non-Tesla vehicle with the sale of a new or used Tesla vehicle.\n",
      "- They acquire Tesla and non-Tesla vehicles as trade-ins and subsequently remarket them, either directly by Tesla or through third parties.\n",
      "- Despite ongoing supply chain and logistics challenges, Tesla produced and delivered a significant number of consumer vehicles in 2022.\n",
      "- Tesla has been impacted by global shortages of semiconductors, which have caused challenges in the manufacturing industry and affected their supply chain and production.\n",
      "- The company also focuses on operations management and supply chain optimization expertise to enhance efficiency.\n",
      "--------------------------------------------------\n"
     ]
    }
   ],
   "source": [
    "augmented_response = client.completion_with_retrieval(\n",
    "    query=tesla_question,\n",
    "    model=OPENAI_MODEL,\n",
    "    n_search_results_to_use=3)\n",
    "print('-'*50)\n",
    "print('Augmented response:')\n",
    "print(tesla_question + augmented_response)\n",
    "print('-'*50)"
   ]
  },
  {
   "cell_type": "markdown",
   "metadata": {},
   "source": [
    "## Reflections\n",
    "\n",
    "- Apple question able to be answered due to knowledge gap since gpt-3.5 was only trained on data until September 2021\n",
    "- Tesla answer cites specifics but honestly the basic answer is better. Can work on retrieval via vectorstore"
   ]
  },
  {
   "cell_type": "code",
   "execution_count": null,
   "metadata": {},
   "outputs": [],
   "source": []
  },
  {
   "cell_type": "code",
   "execution_count": null,
   "metadata": {},
   "outputs": [],
   "source": []
  }
 ],
 "metadata": {
  "kernelspec": {
   "display_name": "venv",
   "language": "python",
   "name": "python3"
  },
  "language_info": {
   "codemirror_mode": {
    "name": "ipython",
    "version": 3
   },
   "file_extension": ".py",
   "mimetype": "text/x-python",
   "name": "python",
   "nbconvert_exporter": "python",
   "pygments_lexer": "ipython3",
   "version": "3.11.6"
  }
 },
 "nbformat": 4,
 "nbformat_minor": 2
}
