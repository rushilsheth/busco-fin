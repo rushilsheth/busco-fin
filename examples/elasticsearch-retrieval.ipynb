{
 "cells": [
  {
   "cell_type": "markdown",
   "metadata": {},
   "source": [
    "# Elasticsearch Retrieal with OpenAI\n",
    "\n",
    "### Overview\n",
    "\n",
    "In this notebook we will launch elastic search locally and then ask some questions related to 10-K filings of top 10 S&P500 companies\n",
    "\n",
    "1. Set up enviornment\n",
    "2. Build search tool to query our ES instance\n",
    "3. Test the search tool\n",
    "4. Create OpenAI client with access to the tool\n",
    "5. Compare OpenAI's response with and without access to the tool"
   ]
  },
  {
   "cell_type": "markdown",
   "metadata": {},
   "source": [
    "# Imports and start ElasticSearch"
   ]
  },
  {
   "cell_type": "code",
   "execution_count": 1,
   "metadata": {},
   "outputs": [],
   "source": [
    "import os\n",
    "import sys\n",
    "sys.path.append(os.path.abspath(os.path.join(os.getcwd(), os.pardir)))\n",
    "\n",
    "from retriever.util import get_logger\n",
    "from retriever.searcher.searchtools.elasticsearch import ElasticsearchSearchTool\n",
    "\n",
    "logger = get_logger()"
   ]
  },
  {
   "cell_type": "code",
   "execution_count": 2,
   "metadata": {},
   "outputs": [
    {
     "name": "stdout",
     "output_type": "stream",
     "text": [
      "Starting Elasticsearch...\n",
      "Elasticsearch is starting. Please wait a few moments before it becomes available.\n"
     ]
    }
   ],
   "source": [
    "from retriever.searcher.constants import SEC_FILINGS_SEARCH_TOOL_DESCRIPTION\n",
    "sec_search_tool = ElasticsearchSearchTool(SEC_FILINGS_SEARCH_TOOL_DESCRIPTION)"
   ]
  },
  {
   "cell_type": "code",
   "execution_count": 3,
   "metadata": {},
   "outputs": [
    {
     "name": "stdout",
     "output_type": "stream",
     "text": [
      "2024-02-22 22:55:53,860 - elastic_transport.transport - INFO - POST http://localhost:9200/sec_filings/_search [status:200 duration:0.260s]\n",
      "2024-02-22 22:55:53,860 - elastic_transport.transport - INFO - POST http://localhost:9200/sec_filings/_search [status:200 duration:0.260s]\n",
      "2024-02-22 22:55:53,860 - elastic_transport.transport - INFO - POST http://localhost:9200/sec_filings/_search [status:200 duration:0.260s]\n"
     ]
    }
   ],
   "source": [
    "aapl_earnings = sec_search_tool.search(\"AAPL earnings 2022\", n_search_results_to_use=3)"
   ]
  },
  {
   "cell_type": "code",
   "execution_count": 4,
   "metadata": {},
   "outputs": [
    {
     "name": "stdout",
     "output_type": "stream",
     "text": [
      "\n",
      "<search_results>\n",
      "<item index=\"1\">\n",
      "<page_content>\n",
      "This Item\n",
      "generally discusses 2023 and <em>2022</em> items and year-to-year comparisons between\n",
      "2023 and <em>2022</em>.\n",
      "\n",
      "Note 3 – <em>Earnings</em> Per Share The following table shows\n",
      "the computation of basic and diluted <em>earnings</em> per share for 2023, <em>2022</em> and\n",
      "2021 (net income in millions and shares in thousands): 2023 <em>2022</em> 2021\n",
      "Numerator: Net income $ 96,995 $ 99,803 $ 94,680 Denominator: Weighted-average\n",
      "basic shares outstanding 15,744,231 16,215,963 16,701,272 Effect of dilutive\n",
      "share-based awards 68,316 109,856 163,647 Weighted-average\n",
      "\n",
      "provision for income taxes is based on\n",
      "foreign pretax <em>earnings</em> of $72.9 billion, $71.3 billion and $68.7 billion in\n",
      "2023, <em>2022</em> and 2021, respectively.\n",
      "\n",
      "Note 3 – <em>Earnings</em> Per Share The following table shows\n",
      "the computation of basic and diluted <em>earnings</em> per share for 2023, <em>2022</em> and\n",
      "2021 (net income in millions and shares in thousands): 2023 <em>2022</em> 2021\n",
      "Numerator: Net income $ 96,995 $ 99,803 $ 94,680 Denominator: Weighted-average\n",
      "basic shares outstanding 15,744,231 16,215,963 16,701,272 Effect of dilutive\n",
      "share-based awards 68,316 109,856 163,647 Weighted-average\n",
      "\n",
      "provision for income taxes is based on\n",
      "foreign pretax <em>earnings</em> of $72.9 billion, $71.3 billion and $68.7 billion in\n",
      "2023, <em>2022</em> and 2021, respectively.\n",
      "</page_content>\n",
      "</item>\n",
      "<item index=\"2\">\n",
      "<page_content>\n",
      "<em>Earnings</em> Per Share The following table shows the computation\n",
      "of basic and diluted <em>earnings</em> per share for <em>2022</em>, 2021 and 2020 (net income in\n",
      "millions and shares in thousands): <em>2022</em> 2021 2020 Numerator: Net income $\n",
      "99,803 $ 94,680 $ 57,411 Denominator: Weighted-average basic shares\n",
      "outstanding 16,215,963 16,701,272 17,352,119 Effect of dilutive securities\n",
      "109,856 163,647 176,095 Weighted-average diluted\n",
      "\n",
      "$ 9,680 The foreign\n",
      "provision for income taxes is based on foreign pretax <em>earnings</em> of $71.3\n",
      "billion, $68.7 billion and $38.1 billion in <em>2022</em>, 2021 and 2020, respectively.\n",
      "\n",
      "WAGNER Apple Inc. | <em>2022</em> Form 10-K | 58\n",
      "\n",
      "}}, __dict__={type=Document, metadata={source=edgar_docs/<em>AAPL</em>/10-K/<em>2022</em>-10-27.htm}, page_content=UNITED STATES SECURITIES AND EXCHANGE COMMISSION Washington, D.C. 20549 FORM\n",
      "10-K (Mark One) ANNUAL REPORT PURSUANT TO SECTION 13 OR 15(d) OF THE\n",
      "SECURITIES EXCHANGE ACT OF 1934 For the fiscal year ended September 24, <em>2022</em>\n",
      "or TRANSITION REPORT PURSUANT TO SECTION\n",
      "\n",
      "<em>Earnings</em> Per Share The following table shows the computation\n",
      "of basic and diluted <em>earnings</em> per share for <em>2022</em>, 2021 and 2020 (net income in\n",
      "millions and shares in thousands): <em>2022</em> 2021 2020 Numerator: Net income $\n",
      "99,803 $ 94,680 $ 57,411 Denominator: Weighted-average basic shares\n",
      "outstanding 16,215,963 16,701,272 17,352,119 Effect of dilutive securities\n",
      "109,856 163,647 176,095 Weighted-average diluted\n",
      "\n",
      "$ 9,680 The foreign\n",
      "provision for income taxes is based on foreign pretax <em>earnings</em> of $71.3\n",
      "billion, $68.7 billion and $38.1 billion in <em>2022</em>, 2021 and 2020, respectively.\n",
      "</page_content>\n",
      "</item>\n",
      "<item index=\"3\">\n",
      "<page_content>\n",
      "178,925 Weighted-\n",
      "average diluted shares 17,528,214 18,595,651 20,000,435 Basic <em>earnings</em> per\n",
      "share $ 3.31 $ 2.99 $ 3.00 Diluted <em>earnings</em> per share $ 3.28 $ 2.97 $ 2.98 The\n",
      "Company applies the treasury stock method to determine the dilutive effect of\n",
      "potentially dilutive securities.\n",
      "\n",
      "These leases will commence between\n",
      "2021 and <em>2022</em>, with lease terms ranging from 1 year to 20 years.\n",
      "\n",
      ", 1.550% Notes due 2019, 1.900% Notes due 2020, 2.500% Notes due <em>2022</em>,\n",
      "3.000% Notes due 2024, 3.350% Notes due 2027 and 4.250% Notes due 2047. 8-K\n",
      "4.1 2/9/17 4.14 Officer’s Certificate of the Registrant, dated as of May 11,\n",
      "2017, including forms of global notes representing the Floating Rate Notes due\n",
      "2020, Floating Rate Notes due <em>2022</em>, 1.800% Notes due 2020, 2.300% Notes due\n",
      "<em>2022</em>, 2.850% Notes due\n",
      "\n",
      "These leases will commence between\n",
      "2021 and <em>2022</em>, with lease terms ranging from 1 year to 20 years.\n",
      "\n",
      ", 1.550% Notes due 2019, 1.900% Notes due 2020, 2.500% Notes due <em>2022</em>,\n",
      "3.000% Notes due 2024, 3.350% Notes due 2027 and 4.250% Notes due 2047. 8-K\n",
      "4.1 2/9/17 4.14 Officer’s Certificate of the Registrant, dated as of May 11,\n",
      "2017, including forms of global notes representing the Floating Rate Notes due\n",
      "2020, Floating Rate Notes due <em>2022</em>, 1.800% Notes due 2020, 2.300% Notes due\n",
      "<em>2022</em>, 2.850% Notes due\n",
      "</page_content>\n",
      "</item>\n",
      "</search_results>\n"
     ]
    }
   ],
   "source": [
    "print(aapl_earnings)"
   ]
  }
 ],
 "metadata": {
  "kernelspec": {
   "display_name": "venv",
   "language": "python",
   "name": "python3"
  },
  "language_info": {
   "codemirror_mode": {
    "name": "ipython",
    "version": 3
   },
   "file_extension": ".py",
   "mimetype": "text/x-python",
   "name": "python",
   "nbconvert_exporter": "python",
   "pygments_lexer": "ipython3",
   "version": "3.11.6"
  }
 },
 "nbformat": 4,
 "nbformat_minor": 2
}
